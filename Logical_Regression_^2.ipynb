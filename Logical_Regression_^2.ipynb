{
 "cells": [
  {
   "cell_type": "code",
   "execution_count": 31,
   "metadata": {
    "id": "pQO2aAM-epGz"
   },
   "outputs": [],
   "source": [
    "import numpy as np\n",
    "import pandas\n",
    "import matplotlib.pyplot as plt\n",
    "from sklearn.linear_model import LogisticRegression\n",
    "from sklearn.model_selection import train_test_split\n",
    "from sklearn.metrics import mean_absolute_error\n",
    "from sklearn.datasets import make_circles,make_blobs\n",
    "from sklearn.metrics import accuracy_score, f1_score, confusion_matrix\n",
    "from sklearn.preprocessing import normalize\n",
    "from sklearn.datasets import load_wine"
   ]
  },
  {
   "cell_type": "code",
   "execution_count": 32,
   "metadata": {
    "id": "YUeVWoEgfaAi"
   },
   "outputs": [
    {
     "name": "stdout",
     "output_type": "stream",
     "text": [
      "(89, 13)\n",
      "(89,)\n"
     ]
    }
   ],
   "source": [
    "features, target = load_wine(return_X_y=True)\n",
    "Xtrain,Xtest,ytrain,ytest=train_test_split(features, target,test_size=0.50,\n",
    "                                                random_state=45)\n",
    "print(Xtrain.shape)\n",
    "print(ytrain.shape)"
   ]
  },
  {
   "cell_type": "markdown",
   "metadata": {},
   "source": [
    "# Logistic Reggression"
   ]
  },
  {
   "cell_type": "code",
   "execution_count": 40,
   "metadata": {
    "colab": {
     "base_uri": "https://localhost:8080/"
    },
    "id": "Rn68oHsdgvMI",
    "outputId": "c31832bf-4da2-4a41-de22-ba39ed16e576"
   },
   "outputs": [
    {
     "name": "stdout",
     "output_type": "stream",
     "text": [
      "[[ 0.07852083 -0.04938583  0.04399897 -0.78493759 -0.09530895  0.30606414\n",
      "   0.48927669 -0.05672601  0.12136789  0.30014895  0.01716184  0.53478093\n",
      "   0.02461944]\n",
      " [ 0.26874874 -0.28945622 -0.09128989  0.41234558  0.0312611   0.11297698\n",
      "   0.41997389  0.09864829  0.37457012 -1.07106478  0.19900794  0.11078718\n",
      "  -0.01330164]\n",
      " [-0.34726957  0.33884205  0.04729093  0.37259201  0.06404784 -0.41904112\n",
      "  -0.90925058 -0.04192228 -0.49593801  0.77091583 -0.21616978 -0.64556812\n",
      "  -0.0113178 ]]\n",
      "[-0.03793817  0.10747605 -0.06953788]\n"
     ]
    },
    {
     "name": "stderr",
     "output_type": "stream",
     "text": [
      "C:\\Users\\oscar\\anaconda3\\lib\\site-packages\\sklearn\\linear_model\\_logistic.py:762: ConvergenceWarning: lbfgs failed to converge (status=1):\n",
      "STOP: TOTAL NO. of ITERATIONS REACHED LIMIT.\n",
      "\n",
      "Increase the number of iterations (max_iter) or scale the data as shown in:\n",
      "    https://scikit-learn.org/stable/modules/preprocessing.html\n",
      "Please also refer to the documentation for alternative solver options:\n",
      "    https://scikit-learn.org/stable/modules/linear_model.html#logistic-regression\n",
      "  n_iter_i = _check_optimize_result(\n"
     ]
    }
   ],
   "source": [
    "model = LogisticRegression()\n",
    "model.fit(Xtrain,ytrain)\n",
    "\n",
    "print(model.coef_)\n",
    "print(model.intercept_)"
   ]
  },
  {
   "cell_type": "code",
   "execution_count": 41,
   "metadata": {
    "colab": {
     "base_uri": "https://localhost:8080/"
    },
    "id": "SFQ_D1IQnNlW",
    "outputId": "bcaa8a54-1e65-405f-c439-e8f359577f5b"
   },
   "outputs": [
    {
     "name": "stdout",
     "output_type": "stream",
     "text": [
      "Acc: 0.9550561797752809\n",
      "Macro F1: 0.9561569080636877\n"
     ]
    }
   ],
   "source": [
    "ypred = model.predict(Xtest)\n",
    "\n",
    "print(\"Acc:\",accuracy_score(ytest,ypred))\n",
    "print(\"Macro F1:\",f1_score(ytest,ypred,average='macro'))\n",
    "#print(X_train.shape)"
   ]
  },
  {
   "cell_type": "code",
   "execution_count": 42,
   "metadata": {
    "colab": {
     "base_uri": "https://localhost:8080/"
    },
    "id": "uYhd4r7ZOJ-F",
    "outputId": "bb4146da-f45b-4b18-d398-53a0802d27c9"
   },
   "outputs": [
    {
     "name": "stdout",
     "output_type": "stream",
     "text": [
      "Accuracy: 0.9550561797752809\n",
      "Macro F1: 0.9561569080636877\n",
      "[[30  1  0]\n",
      " [ 0 31  0]\n",
      " [ 0  1 26]]\n"
     ]
    }
   ],
   "source": [
    "XN = Xtrain.copy()\n",
    "XT = Xtest.copy()\n",
    "\n",
    "for i in range(Xtrain.shape[1]):\n",
    "    XN[:,i] = ( Xtrain[:,i]-np.mean(Xtrain[:,i]) )/np.std(Xtrain[:,i])\n",
    "    XT[:,i] = ( Xtest[:,i]-np.mean(Xtest[:,i]) )/np.std(Xtest[:,i])\n",
    "\n",
    "model = LogisticRegression()\n",
    "model.fit(XN,ytrain)\n",
    "\n",
    "ypred = model.predict(XT)\n",
    "print(\"Accuracy:\",accuracy_score(ytest,predict))\n",
    "print(\"Macro F1:\",f1_score(ytest,predict,average='macro'))\n",
    "print( confusion_matrix(ytest,ypred) )"
   ]
  },
  {
   "cell_type": "markdown",
   "metadata": {
    "id": "B7NgsMLBuALP"
   },
   "source": [
    "# ^2 Model"
   ]
  },
  {
   "cell_type": "code",
   "execution_count": 43,
   "metadata": {
    "colab": {
     "base_uri": "https://localhost:8080/"
    },
    "id": "tObImx_DvkHu",
    "outputId": "dec5ee95-1766-4015-96f0-71085fef0993"
   },
   "outputs": [
    {
     "name": "stdout",
     "output_type": "stream",
     "text": [
      "[[-2.58677693e-04 -4.33103876e-05 -4.55213642e-05 -7.55844120e-04\n",
      "  -1.26758346e-03 -1.80232838e-06  5.41664143e-05 -1.79911908e-05\n",
      "  -2.74762042e-06 -9.94242575e-05 -1.58104214e-05  4.86698164e-06\n",
      "  -8.84181048e-03 -2.46977991e-03 -1.30354357e-04 -7.65889579e-05\n",
      "  -1.95463356e-02 -1.62577236e-04  9.57010583e-05  2.74403073e-04\n",
      "  -1.03015160e-05  3.38832703e-05 -8.06341900e-04 -1.12709763e-05\n",
      "   1.92383326e-04  2.47929687e-05]\n",
      " [ 1.98109609e-04 -1.95420604e-04  2.21790425e-05  5.29277228e-04\n",
      "   1.35736693e-03  1.47133691e-04  2.36708764e-04  1.92030317e-06\n",
      "   1.24332887e-04 -4.92932083e-04  8.36111612e-05  2.31165797e-04\n",
      "   5.95410975e-03  1.50424858e-04 -1.23913764e-03 -5.09292243e-05\n",
      "   9.66661233e-03  1.54033049e-04  5.08567652e-04  6.58807703e-04\n",
      "  -2.76947250e-06  3.15699205e-04 -6.03741934e-03  1.29831571e-04\n",
      "   9.08089482e-04 -1.51805741e-05]\n",
      " [ 6.05680842e-05  2.38730991e-04  2.33423218e-05  2.26566892e-04\n",
      "  -8.97834721e-05 -1.45331363e-04 -2.90875178e-04  1.60708876e-05\n",
      "  -1.21585266e-04  5.92356340e-04 -6.78007399e-05 -2.36032778e-04\n",
      "   2.88770073e-03  2.31935505e-03  1.36949200e-03  1.27518182e-04\n",
      "   9.87972328e-03  8.54418656e-06 -6.04268710e-04 -9.33210776e-04\n",
      "   1.30709885e-05 -3.49582475e-04  6.84376124e-03 -1.18560595e-04\n",
      "  -1.10047281e-03 -9.61239459e-06]]\n",
      "[-2.52289186e-05  3.01539866e-05 -4.92506794e-06]\n"
     ]
    },
    {
     "name": "stderr",
     "output_type": "stream",
     "text": [
      "C:\\Users\\oscar\\anaconda3\\lib\\site-packages\\sklearn\\linear_model\\_logistic.py:762: ConvergenceWarning: lbfgs failed to converge (status=1):\n",
      "STOP: TOTAL NO. of ITERATIONS REACHED LIMIT.\n",
      "\n",
      "Increase the number of iterations (max_iter) or scale the data as shown in:\n",
      "    https://scikit-learn.org/stable/modules/preprocessing.html\n",
      "Please also refer to the documentation for alternative solver options:\n",
      "    https://scikit-learn.org/stable/modules/linear_model.html#logistic-regression\n",
      "  n_iter_i = _check_optimize_result(\n"
     ]
    }
   ],
   "source": [
    "XX = np.concatenate((features,features**2),axis=1)\n",
    "Xtrain_2, Xtest_2, ytrain_2, ytest_2 = train_test_split(XX, target,\n",
    "                                                    test_size=0.30,\n",
    "                                                    random_state=45)\n",
    "model = LogisticRegression()\n",
    "model.fit(Xtrain_2,ytrain_2)\n",
    "print(model.coef_)\n",
    "print(model.intercept_)"
   ]
  },
  {
   "cell_type": "code",
   "execution_count": 44,
   "metadata": {
    "colab": {
     "base_uri": "https://localhost:8080/"
    },
    "id": "gMT5teo4vwv2",
    "outputId": "239b3822-1543-4fce-ab72-fa4f2e66fdf6"
   },
   "outputs": [
    {
     "name": "stdout",
     "output_type": "stream",
     "text": [
      "Acc: 0.7592592592592593\n",
      "Macro F1: 0.7579718205413423\n"
     ]
    }
   ],
   "source": [
    "ypred_2 = model.predict(Xtest_2)\n",
    "\n",
    "print(\"Acc:\",accuracy_score(ytest_2,ypred_2))\n",
    "print(\"Macro F1:\",f1_score(ytest_2,ypred_2,average='macro'))"
   ]
  },
  {
   "cell_type": "code",
   "execution_count": 45,
   "metadata": {
    "colab": {
     "base_uri": "https://localhost:8080/",
     "height": 265
    },
    "id": "DkS9tzkF465c",
    "outputId": "e16986fd-9789-4698-c8d5-287db5aebfae"
   },
   "outputs": [
    {
     "data": {
      "image/png": "[encoded data removed]",
      "text/plain": [
       "<Figure size 432x288 with 1 Axes>"
      ]
     },
     "metadata": {
      "needs_background": "light"
     },
     "output_type": "display_data"
    }
   ],
   "source": [
    "plt.figure()\n",
    "plt.scatter(features[:,0],target)\n",
    "plt.show()"
   ]
  },
  {
   "cell_type": "code",
   "execution_count": null,
   "metadata": {},
   "outputs": [],
   "source": []
  },
  {
   "cell_type": "code",
   "execution_count": null,
   "metadata": {},
   "outputs": [],
   "source": []
  }
 ],
 "metadata": {
  "accelerator": "GPU",
  "colab": {
   "collapsed_sections": [],
   "name": "Logical-Regression.ipynb",
   "provenance": []
  },
  "kernelspec": {
   "display_name": "Python 3",
   "language": "python",
   "name": "python3"
  },
  "language_info": {
   "codemirror_mode": {
    "name": "ipython",
    "version": 3
   },
   "file_extension": ".py",
   "mimetype": "text/x-python",
   "name": "python",
   "nbconvert_exporter": "python",
   "pygments_lexer": "ipython3",
   "version": "3.8.5"
  }
 },
 "nbformat": 4,
 "nbformat_minor": 1
}
