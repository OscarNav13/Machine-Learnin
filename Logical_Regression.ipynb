{
 "cells": [
  {
   "cell_type": "code",
   "execution_count": 22,
   "metadata": {
    "id": "pQO2aAM-epGz"
   },
   "outputs": [],
   "source": [
    "import numpy as np\n",
    "import pandas\n",
    "import matplotlib.pyplot as plt\n",
    "\n",
    "from sklearn.linear_model import LogisticRegression\n",
    "from sklearn.model_selection import train_test_split\n",
    "from sklearn.metrics import mean_absolute_error\n",
    "from sklearn.datasets import make_circles,make_blobs\n",
    "from sklearn.datasets import load_digits, load_breast_cancer, load_wine\n",
    "from sklearn.metrics import accuracy_score, f1_score, confusion_matrix\n",
    "from sklearn.preprocessing import normalize"
   ]
  },
  {
   "cell_type": "code",
   "execution_count": 23,
   "metadata": {
    "id": "YUeVWoEgfaAi"
   },
   "outputs": [],
   "source": [
    "RANDOM_STATE = 42\n",
    "\n",
    "features, target = load_wine(return_X_y=True)\n",
    "X_train, X_test, y_train, y_test = train_test_split(features, target,\n",
    "                                                    test_size=0.30,\n",
    "                                                    random_state=RANDOM_STATE)"
   ]
  },
  {
   "cell_type": "code",
   "execution_count": 24,
   "metadata": {
    "colab": {
     "base_uri": "https://localhost:8080/"
    },
    "id": "Rn68oHsdgvMI",
    "outputId": "c31832bf-4da2-4a41-de22-ba39ed16e576"
   },
   "outputs": [
    {
     "name": "stdout",
     "output_type": "stream",
     "text": [
      "[[-0.28827893  0.29190807  0.24199185 -0.26965558 -0.01937224  0.31863849\n",
      "   0.69689257 -0.00932942  0.07836301  0.08404414 -0.02447358  0.38429452\n",
      "   0.00908441]\n",
      " [ 0.68262263 -0.67573186 -0.26976127  0.11835302 -0.00644154  0.16275309\n",
      "   0.28934757  0.0438637   0.3858124  -1.08008814  0.27103165  0.40668721\n",
      "  -0.00776044]\n",
      " [-0.3943437   0.38382379  0.02776942  0.15130257  0.02581378 -0.48139158\n",
      "  -0.98624014 -0.03453427 -0.46417541  0.996044   -0.24655807 -0.79098172\n",
      "  -0.00132396]]\n",
      "[-0.07431296  0.1297238  -0.05541084]\n"
     ]
    },
    {
     "name": "stderr",
     "output_type": "stream",
     "text": [
      "/usr/local/lib/python3.7/dist-packages/sklearn/linear_model/_logistic.py:940: ConvergenceWarning: lbfgs failed to converge (status=1):\n",
      "STOP: TOTAL NO. of ITERATIONS REACHED LIMIT.\n",
      "\n",
      "Increase the number of iterations (max_iter) or scale the data as shown in:\n",
      "    https://scikit-learn.org/stable/modules/preprocessing.html\n",
      "Please also refer to the documentation for alternative solver options:\n",
      "    https://scikit-learn.org/stable/modules/linear_model.html#logistic-regression\n",
      "  extra_warning_msg=_LOGISTIC_SOLVER_CONVERGENCE_MSG)\n"
     ]
    }
   ],
   "source": [
    "model = LogisticRegression()\n",
    "model.fit(X_train,y_train)\n",
    "\n",
    "print(model.coef_)\n",
    "print(model.intercept_)"
   ]
  },
  {
   "cell_type": "code",
   "execution_count": 25,
   "metadata": {
    "colab": {
     "base_uri": "https://localhost:8080/"
    },
    "id": "SFQ_D1IQnNlW",
    "outputId": "bcaa8a54-1e65-405f-c439-e8f359577f5b"
   },
   "outputs": [
    {
     "name": "stdout",
     "output_type": "stream",
     "text": [
      "Accuracy: 0.9814814814814815\n",
      "Macro F1: 0.983239053006495\n"
     ]
    }
   ],
   "source": [
    "predict = model.predict(X_test)\n",
    "\n",
    "print(\"Accuracy:\",accuracy_score(y_test,predict))\n",
    "print(\"Macro F1:\",f1_score(y_test,predict,average='macro'))\n",
    "#print(X_train.shape)"
   ]
  },
  {
   "cell_type": "code",
   "execution_count": 32,
   "metadata": {
    "colab": {
     "base_uri": "https://localhost:8080/"
    },
    "id": "uYhd4r7ZOJ-F",
    "outputId": "bb4146da-f45b-4b18-d398-53a0802d27c9"
   },
   "outputs": [
    {
     "name": "stdout",
     "output_type": "stream",
     "text": [
      "Accuracy: 0.9814814814814815\n",
      "Macro F1: 0.9803756658256239\n"
     ]
    }
   ],
   "source": [
    "XN = X_train.copy()\n",
    "XT = X_test.copy()\n",
    "\n",
    "for i in range(X_train.shape[1]):\n",
    "    XN[:,i] = ( X_train[:,i]-np.mean(X_train[:,i]) )/np.std(X_train[:,i])\n",
    "    XT[:,i] = ( X_test[:,i]-np.mean(X_test[:,i]) )/np.std(X_test[:,i])\n",
    "    #print('[',np.min( XN[:,i] ), np.max( XN[:,i] ) ,']')\n",
    "\n",
    "model = LogisticRegression()\n",
    "model.fit(XN,y_train)\n",
    "\n",
    "predict = model.predict(XT)\n",
    "print(\"Accuracy:\",accuracy_score(y_test,predict))\n",
    "print(\"Macro F1:\",f1_score(y_test,predict,average='macro'))\n"
   ]
  },
  {
   "cell_type": "markdown",
   "metadata": {
    "id": "B7NgsMLBuALP"
   },
   "source": [
    "# **Modelo Cuadratico**"
   ]
  },
  {
   "cell_type": "code",
   "execution_count": 27,
   "metadata": {
    "colab": {
     "base_uri": "https://localhost:8080/"
    },
    "id": "tObImx_DvkHu",
    "outputId": "dec5ee95-1766-4015-96f0-71085fef0993"
   },
   "outputs": [
    {
     "name": "stdout",
     "output_type": "stream",
     "text": [
      "[[-1.25146087e-04 -3.59111961e-05 -1.98266113e-05 -3.37825495e-04\n",
      "  -5.96693509e-04  3.81986008e-06  3.31604273e-05 -7.88811882e-06\n",
      "  -1.29663366e-07 -7.34032400e-05 -5.86514007e-06  5.43493057e-06\n",
      "  -4.12623225e-03 -1.21029976e-03 -1.51410544e-04 -2.35279194e-05\n",
      "  -8.57383915e-03 -4.14044773e-05  7.06456681e-05  1.61838776e-04\n",
      "  -4.78682562e-06  2.29075897e-05 -7.11970148e-04 -2.17273163e-06\n",
      "   1.02205253e-04  1.12686441e-05]\n",
      " [ 7.31352853e-05 -7.23632898e-05  8.88722506e-06  2.16761312e-04\n",
      "   4.89107495e-04  5.55002671e-05  8.76458824e-05  4.31975728e-07\n",
      "   5.33579576e-05 -2.40239404e-04  3.59931920e-05  1.01361539e-04\n",
      "   2.27513837e-03 -2.86069215e-05 -4.41660564e-04 -1.87520929e-05\n",
      "   4.39701395e-03  1.02524925e-04  1.87286857e-04  2.36408874e-04\n",
      "  -1.23527318e-06  1.47004170e-04 -2.85227806e-03  5.70573997e-05\n",
      "   4.01864138e-04 -7.49652901e-06]\n",
      " [ 5.20108014e-05  1.08274486e-04  1.09393863e-05  1.21064183e-04\n",
      "   1.07586014e-04 -5.93201272e-05 -1.20806310e-04  7.45614309e-06\n",
      "  -5.32282942e-05  3.13642644e-04 -3.01280519e-05 -1.06796470e-04\n",
      "   1.85109388e-03  1.23890668e-03  5.93071109e-04  4.22800123e-05\n",
      "   4.17682520e-03 -6.11204473e-05 -2.57932525e-04 -3.98247650e-04\n",
      "   6.02209879e-06 -1.69911760e-04  3.56424820e-03 -5.48846681e-05\n",
      "  -5.04069391e-04 -3.77211507e-06]]\n",
      "[-1.21501806e-05  1.17202331e-05  4.29947533e-07]\n"
     ]
    },
    {
     "name": "stderr",
     "output_type": "stream",
     "text": [
      "/usr/local/lib/python3.7/dist-packages/sklearn/linear_model/_logistic.py:940: ConvergenceWarning: lbfgs failed to converge (status=1):\n",
      "STOP: TOTAL NO. of ITERATIONS REACHED LIMIT.\n",
      "\n",
      "Increase the number of iterations (max_iter) or scale the data as shown in:\n",
      "    https://scikit-learn.org/stable/modules/preprocessing.html\n",
      "Please also refer to the documentation for alternative solver options:\n",
      "    https://scikit-learn.org/stable/modules/linear_model.html#logistic-regression\n",
      "  extra_warning_msg=_LOGISTIC_SOLVER_CONVERGENCE_MSG)\n"
     ]
    }
   ],
   "source": [
    "XX = np.concatenate((features,features**2),axis=1)\n",
    "X_train_2, X_test_2, y_train_2, y_test_2 = train_test_split(XX, target,\n",
    "                                                    test_size=0.30,\n",
    "                                                    random_state=RANDOM_STATE)\n",
    "model = LogisticRegression()\n",
    "model.fit(X_train_2,y_train_2)\n",
    "print(model.coef_)\n",
    "print(model.intercept_)"
   ]
  },
  {
   "cell_type": "code",
   "execution_count": 28,
   "metadata": {
    "colab": {
     "base_uri": "https://localhost:8080/"
    },
    "id": "gMT5teo4vwv2",
    "outputId": "239b3822-1543-4fce-ab72-fa4f2e66fdf6"
   },
   "outputs": [
    {
     "name": "stdout",
     "output_type": "stream",
     "text": [
      "Accuracy: 0.7777777777777778\n",
      "Macro F1: 0.7619047619047619\n"
     ]
    }
   ],
   "source": [
    "predict = model.predict(X_test_2)\n",
    "\n",
    "print(\"Accuracy:\",accuracy_score(y_test,predict))\n",
    "print(\"Macro F1:\",f1_score(y_test,predict,average='macro'))"
   ]
  },
  {
   "cell_type": "code",
   "execution_count": 29,
   "metadata": {
    "colab": {
     "base_uri": "https://localhost:8080/",
     "height": 265
    },
    "id": "DkS9tzkF465c",
    "outputId": "e16986fd-9789-4698-c8d5-287db5aebfae"
   },
   "outputs": [
    {
     "data": {
      "image/png": "[encoded data removed]",
      "text/plain": [
       "<Figure size 432x288 with 1 Axes>"
      ]
     },
     "metadata": {
      "needs_background": "light",
      "tags": []
     },
     "output_type": "display_data"
    }
   ],
   "source": [
    "plt.figure()\n",
    "plt.scatter(features[:,0],target)\n",
    "plt.show()"
   ]
  }
 ],
 "metadata": {
  "accelerator": "GPU",
  "colab": {
   "collapsed_sections": [],
   "name": "Logical-Regression.ipynb",
   "provenance": []
  },
  "kernelspec": {
   "display_name": "Python 3",
   "language": "python",
   "name": "python3"
  },
  "language_info": {
   "codemirror_mode": {
    "name": "ipython",
    "version": 3
   },
   "file_extension": ".py",
   "mimetype": "text/x-python",
   "name": "python",
   "nbconvert_exporter": "python",
   "pygments_lexer": "ipython3",
   "version": "3.8.5"
  }
 },
 "nbformat": 4,
 "nbformat_minor": 1
}
