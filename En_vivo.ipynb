{
 "cells": [
  {
   "cell_type": "code",
   "execution_count": 1,
   "metadata": {},
   "outputs": [],
   "source": [
    "import matplotlib.pyplot as plt\n",
    "import matplotlib.image as mpimg\n",
    "from mpl_toolkits.mplot3d import Axes3D\n",
    "import numpy as np\n",
    "import pandas\n",
    "import cv2"
   ]
  },
  {
   "cell_type": "markdown",
   "metadata": {},
   "source": [
    "# Leer Billetes y separar sus propidades "
   ]
  },
  {
   "cell_type": "markdown",
   "metadata": {},
   "source": [
    "## Billetes de 20"
   ]
  },
  {
   "cell_type": "code",
   "execution_count": 2,
   "metadata": {},
   "outputs": [],
   "source": [
    "bill = [\"MX020N_\",\"MX050N_\",\"MX100N_\",\"MX200N_\",\"MX500N_\"]\n",
    "arrhisto = [  []  ,  []  ] \n",
    "orden = [\"01\",\"02\",\"03\",\"04\",\"05\",\"06\",\"07\",\"08\",\"09\",\"10\",\"11\",\"12\",\"13\",\"14\",\"15\",\"16\",\"17\",\"18\",\"19\",\"20\"]\n",
    "letras = [\"a\",\"b\",\"c\",\"d\"]\n",
    "\n",
    "lower = np.array([90, 33, 33])\n",
    "upper = np.array([130, 255, 255])\n",
    "\n",
    "i=0\n",
    "for j in range(19):\n",
    "    for k in range(4):\n",
    "        if(bill[i]==\"MX020N_\" and orden[j]==\"01\"):\n",
    "            continue\n",
    "        if(bill[i]==\"MX020N_\" and letras[k]==\"a\" and orden[j]==\"02\"):\n",
    "            continue\n",
    "        img = cv2.imread('Muestras/20/'+bill[i]+orden[j]+letras[k]+'.jpg')\n",
    "        img_hsv = cv2.cvtColor(img, cv2.COLOR_BGR2HSV)\n",
    "        img_rgb = cv2.cvtColor(img, cv2.COLOR_BGR2RGB)\n",
    "        mask = cv2.inRange(img_hsv, lower, upper)\n",
    "        \"\"\"\n",
    "        plt.figure()\n",
    "        plt.subplot(1,2,1)\n",
    "        plt.title('rgb')\n",
    "        plt.imshow( img_rgb )\n",
    "        plt.subplot(1,2,2)\n",
    "        plt.title('mask')\n",
    "        plt.imshow( mask,cmap='gray' )\n",
    "        plt.show()\n",
    "        \"\"\"\n",
    "        nrows, ncols, nch = img_hsv.shape\n",
    "        \n",
    "        #Vectorizar imagen\n",
    "        \n",
    "        Vimg_hsv = np.reshape(img_hsv,(nrows*ncols,3))\n",
    "\n",
    "        # Obtener hue\n",
    "        hue = Vimg_hsv[:,0]\n",
    "        histograma = np.histogram(hue,bins=10,range=[0,180])[0]\n",
    "        histograma = histograma / np.sum(histograma)\n",
    "        histograma = np.round(histograma,2)\n",
    "        #Voy agregando los histogramas de billetes de 20 \n",
    "        arrhisto[0].append(histograma)\n",
    "        arrhisto[1].append(20)\n",
    "        \n",
    "        \"\"\"\n",
    "        plt.figure()\n",
    "        plt.hist(hue)\n",
    "        plt.show()\n",
    "        print(histograma)\n",
    "        print('---------------------------------------------------------------------------------------------------------------')\n",
    "        print('---------------------------------------------------------------------------------------------------------------')\n",
    "        \"\"\""
   ]
  },
  {
   "cell_type": "markdown",
   "metadata": {},
   "source": [
    "## Billetes de 50\n"
   ]
  },
  {
   "cell_type": "code",
   "execution_count": 3,
   "metadata": {},
   "outputs": [],
   "source": [
    "\n",
    "lower = np.array([148, 30, 30])\n",
    "upper = np.array([175, 255, 255])\n",
    "\n",
    "i=1\n",
    "for j in range(19):\n",
    "    for k in range(4):\n",
    "        img = cv2.imread('Muestras/50/'+bill[i]+orden[j]+letras[k]+'.jpg')\n",
    "        img_hsv = cv2.cvtColor(img, cv2.COLOR_BGR2HSV)\n",
    "        img_rgb = cv2.cvtColor(img, cv2.COLOR_BGR2RGB)\n",
    "\n",
    "        mask = cv2.inRange(img_hsv, lower, upper)\n",
    "        \"\"\"\n",
    "        plt.figure()\n",
    "        plt.subplot(1,2,1)\n",
    "        plt.title('rgb')\n",
    "        plt.imshow( img_rgb )\n",
    "        plt.subplot(1,2,2)\n",
    "        plt.title('mask')\n",
    "        plt.imshow( mask,cmap='gray' )\n",
    "        plt.show()\n",
    "        \"\"\"\n",
    "        \n",
    "        nrows, ncols, nch = img_hsv.shape\n",
    "        #Vectorizar la imagen\n",
    "        Vimg_hsv = np.reshape(img_hsv,(nrows*ncols,3))\n",
    "        # Obtener hue\n",
    "        hue = Vimg_hsv[:,0]\n",
    "        histograma = np.histogram(hue,bins=10,range=[0,180])[0]\n",
    "        histograma = histograma / np.sum(histograma)\n",
    "        histograma = np.round(histograma,2)\n",
    "        #Voy agregando los histogramas de billetes de 50 \n",
    "        arrhisto[0].append(histograma)\n",
    "        arrhisto[1].append(50)\n",
    "        \"\"\"\n",
    "        plt.figure()\n",
    "        plt.hist(hue)\n",
    "        plt.show()\n",
    "        print(histograma)\n",
    "        print('---------------------------------------------------------------------------------------------------------------')\n",
    "        print('---------------------------------------------------------------------------------------------------------------')\n",
    "        \"\"\""
   ]
  },
  {
   "cell_type": "markdown",
   "metadata": {},
   "source": [
    "## Billetes de 100\n"
   ]
  },
  {
   "cell_type": "code",
   "execution_count": 4,
   "metadata": {},
   "outputs": [],
   "source": [
    "\n",
    "lower = np.array([0, 30, 20])\n",
    "upper = np.array([9, 255, 255])\n",
    "\n",
    "i=2\n",
    "for j in range(19):\n",
    "    for k in range(4):\n",
    "        img = cv2.imread('Muestras/100/'+bill[i]+orden[j]+letras[k]+'.jpg')\n",
    "        img_hsv = cv2.cvtColor(img, cv2.COLOR_BGR2HSV)\n",
    "        img_rgb = cv2.cvtColor(img, cv2.COLOR_BGR2RGB)\n",
    "        mask = cv2.inRange(img_hsv, lower, upper)                   \n",
    "        \"\"\"\n",
    "        plt.figure()\n",
    "        plt.subplot(1,2,1)\n",
    "        plt.title('rgb')\n",
    "        plt.imshow( img_rgb )\n",
    "        plt.subplot(1,2,2)\n",
    "        plt.title('mask')\n",
    "        plt.imshow( mask,cmap='gray' )\n",
    "        plt.show()\n",
    "        \"\"\"\n",
    "        nrows, ncols, nch = img_hsv.shape\n",
    "        #Vectorizar la imagen\n",
    "        Vimg_hsv = np.reshape(img_hsv,(nrows*ncols,3))     \n",
    "        # Obtener hue\n",
    "        hue = Vimg_hsv[:,0]\n",
    "        histograma = np.histogram(hue,bins=10,range=[0,180])[0]\n",
    "        histograma = histograma / np.sum(histograma)\n",
    "        histograma = np.round(histograma,2)\n",
    "        #Voy agregando los histogramas de billetes de 100 \n",
    "        arrhisto[0].append(histograma)\n",
    "        arrhisto[1].append(100)\n",
    "        \"\"\"\n",
    "        plt.figure()\n",
    "        plt.hist(hue)\n",
    "        plt.show()\n",
    "        print(histograma)\n",
    "        print('---------------------------------------------------------------------------------------------------------------')\n",
    "        print('---------------------------------------------------------------------------------------------------------------')\n",
    "        \"\"\""
   ]
  },
  {
   "cell_type": "markdown",
   "metadata": {},
   "source": [
    "## Billetes 200"
   ]
  },
  {
   "cell_type": "code",
   "execution_count": 5,
   "metadata": {},
   "outputs": [],
   "source": [
    "#Modificar el valor del HUE para el color verdecito\n",
    "lower = np.array([45, 0, 0])\n",
    "upper = np.array([80, 110, 250])\n",
    "\n",
    "i=3\n",
    "for j in range(19):\n",
    "    for k in range(4):\n",
    "        img = cv2.imread('Muestras/200/'+bill[i]+orden[j]+letras[k]+'.jpg')\n",
    "        img_hsv = cv2.cvtColor(img, cv2.COLOR_BGR2HSV)\n",
    "        img_rgb = cv2.cvtColor(img, cv2.COLOR_BGR2RGB)\n",
    "        mask = cv2.inRange(img_hsv, lower, upper)\n",
    "        \"\"\"\n",
    "        plt.figure()\n",
    "        plt.subplot(1,2,1)\n",
    "        plt.title('rgb')\n",
    "        plt.imshow( img_rgb )\n",
    "        plt.subplot(1,2,2)\n",
    "        plt.title('mask')\n",
    "        plt.imshow( mask,cmap='gray' )\n",
    "        plt.show()\n",
    "        \"\"\"\n",
    "        nrows, ncols, nch = img_hsv.shape\n",
    "        #Vectorizar la imagen\n",
    "        Vimg_hsv = np.reshape(img_hsv,(nrows*ncols,3))\n",
    "\n",
    "        # Obtener hue\n",
    "        hue = Vimg_hsv[:,0]\n",
    "        histograma = np.histogram(hue,bins=10,range=[0,180])[0]\n",
    "        histograma = histograma / np.sum(histograma)\n",
    "        histograma = np.round(histograma,2)\n",
    "        #Voy agregando los histogramas de billetes de 200 \n",
    "        arrhisto[0].append(histograma)\n",
    "        arrhisto[1].append(200)\n",
    "        \"\"\"\n",
    "        plt.figure()\n",
    "        plt.hist(hue)\n",
    "        plt.show()\n",
    "        print(histograma)\n",
    "        print('---------------------------------------------------------------------------------------------------------------')\n",
    "        print('---------------------------------------------------------------------------------------------------------------')\n",
    "        \"\"\""
   ]
  },
  {
   "cell_type": "markdown",
   "metadata": {},
   "source": [
    "## Billetes de 500"
   ]
  },
  {
   "cell_type": "code",
   "execution_count": 6,
   "metadata": {},
   "outputs": [],
   "source": [
    "#Modificar el valor del HUE para el color azulito\n",
    "\n",
    "lower = np.array([12, 10, 10])\n",
    "upper = np.array([30, 255, 255])\n",
    "\n",
    "i=4\n",
    "for j in range(19):\n",
    "    for k in range(4):\n",
    "        img = cv2.imread('Muestras/500/'+bill[i]+orden[j]+letras[k]+'.jpg')\n",
    "        img_hsv = cv2.cvtColor(img, cv2.COLOR_BGR2HSV)\n",
    "        img_rgb = cv2.cvtColor(img, cv2.COLOR_BGR2RGB)\n",
    "        #if(orden[j]==\"04\" or orden[j]==\"19\") :\n",
    "        mask = cv2.inRange(img_hsv, lower, upper)  \n",
    "        \"\"\"\n",
    "        plt.figure()\n",
    "        plt.subplot(1,2,1)\n",
    "        plt.title('rgb')\n",
    "        plt.imshow( img_rgb )\n",
    "        plt.subplot(1,2,2)\n",
    "        plt.title('mask')\n",
    "        plt.imshow( mask,cmap='gray' )\n",
    "        plt.show()\n",
    "        \"\"\"\n",
    "        nrows, ncols, nch = img_hsv.shape\n",
    "        #Vectorizar la imagen\n",
    "        Vimg_hsv = np.reshape(img_hsv,(nrows*ncols,3))\n",
    "\n",
    "        # Obtener hue\n",
    "        hue = Vimg_hsv[:,0]\n",
    "        histograma = np.histogram(hue,bins=10,range=[0,180])[0]\n",
    "        histograma = histograma / np.sum(histograma)\n",
    "        histograma = np.round(histograma,2)\n",
    "        #Voy agregando los histogramas de billetes de 500 \n",
    "        arrhisto[0].append(histograma)\n",
    "        arrhisto[1].append(500)\n",
    "        \"\"\"\n",
    "        plt.figure()\n",
    "        plt.hist(hue)\n",
    "        plt.show()\n",
    "        print(histograma)\n",
    "        print('---------------------------------------------------------------------------------------------------------------')\n",
    "        print('---------------------------------------------------------------------------------------------------------------')\n",
    "        \"\"\""
   ]
  },
  {
   "cell_type": "code",
   "execution_count": 7,
   "metadata": {},
   "outputs": [],
   "source": [
    "arrhisto[0] = np.array(arrhisto[0]) "
   ]
  },
  {
   "cell_type": "markdown",
   "metadata": {},
   "source": [
    "# Entrenamiento de Datos\n"
   ]
  },
  {
   "cell_type": "code",
   "execution_count": 8,
   "metadata": {},
   "outputs": [
    {
     "data": {
      "text/plain": [
       "\"\\nprint('X',X)\\nprint('Y',Y)\\n\""
      ]
     },
     "execution_count": 8,
     "metadata": {},
     "output_type": "execute_result"
    }
   ],
   "source": [
    "#arrhisto[0] = histogramas de billetes\n",
    "#arrhisto[1] = denominacion de billete al que pertenece el histograma\n",
    "\n",
    "X,Y = arrhisto[0],arrhisto[1]\n",
    "\n",
    "TargetNames = [\"20\",\"50\",\"100\",\"200\",\"500\"]\n",
    "#print('Target names:',TargetNames)\n",
    "\"\"\"\n",
    "print('X',X)\n",
    "print('Y',Y)\n",
    "\"\"\""
   ]
  },
  {
   "cell_type": "code",
   "execution_count": 9,
   "metadata": {},
   "outputs": [
    {
     "name": "stdout",
     "output_type": "stream",
     "text": [
      "X (375, 10)\n",
      "Y 375\n",
      "Xtrain (251, 10)\n",
      "ytrain 251\n",
      "Xtest (124, 10)\n",
      "ytest 124\n"
     ]
    }
   ],
   "source": [
    "from sklearn.model_selection import train_test_split\n",
    "\n",
    "Xtrain, Xtest, ytrain, ytest = train_test_split(X, Y, test_size=0.33, random_state=40)\n",
    "\n",
    "print('X',X.shape)\n",
    "print('Y',len(Y))\n",
    "\n",
    "print('Xtrain',Xtrain.shape)\n",
    "print('ytrain',len(ytrain))\n",
    "print('Xtest',Xtest.shape)\n",
    "print('ytest',len(ytest))"
   ]
  },
  {
   "cell_type": "markdown",
   "metadata": {},
   "source": [
    "# Entrenando Modelos"
   ]
  },
  {
   "cell_type": "markdown",
   "metadata": {},
   "source": [
    "### MLPClassifier\n"
   ]
  },
  {
   "cell_type": "code",
   "execution_count": 10,
   "metadata": {},
   "outputs": [
    {
     "name": "stdout",
     "output_type": "stream",
     "text": [
      "accuracy_score 0.9516129032258065\n",
      "Número de muestras: 124\n",
      "Número de predicciones correctas: 118\n"
     ]
    },
    {
     "name": "stderr",
     "output_type": "stream",
     "text": [
      "C:\\Users\\oscar\\anaconda3\\lib\\site-packages\\sklearn\\neural_network\\_multilayer_perceptron.py:582: ConvergenceWarning: Stochastic Optimizer: Maximum iterations (200) reached and the optimization hasn't converged yet.\n",
      "  warnings.warn(\n"
     ]
    }
   ],
   "source": [
    "from sklearn.neural_network import MLPClassifier\n",
    "from sklearn.naive_bayes import GaussianNB \n",
    "from sklearn.svm import SVC\n",
    "from sklearn.metrics import accuracy_score\n",
    "\n",
    "model = MLPClassifier(random_state=39)\n",
    "\n",
    "# Ajustar (Entrenar) el modelo con los datos de entrenamiento\n",
    "model.fit(Xtrain,ytrain)\n",
    "# Predecir\n",
    "\n",
    "ypred = model.predict(Xtest)\n",
    "\n",
    "print('accuracy_score',accuracy_score(ytest,ypred))\n",
    "print('Número de muestras:',len(ytest))\n",
    "print('Número de predicciones correctas:', np.sum(ytest==ypred))\n"
   ]
  },
  {
   "cell_type": "markdown",
   "metadata": {},
   "source": [
    "### Matriz de confusión MLPClassifier\n"
   ]
  },
  {
   "cell_type": "code",
   "execution_count": 11,
   "metadata": {},
   "outputs": [
    {
     "name": "stdout",
     "output_type": "stream",
     "text": [
      "total: [29. 17. 25. 30. 23.]\n"
     ]
    },
    {
     "data": {
      "text/html": [
       "<div>\n",
       "<style scoped>\n",
       "    .dataframe tbody tr th:only-of-type {\n",
       "        vertical-align: middle;\n",
       "    }\n",
       "\n",
       "    .dataframe tbody tr th {\n",
       "        vertical-align: top;\n",
       "    }\n",
       "\n",
       "    .dataframe thead th {\n",
       "        text-align: right;\n",
       "    }\n",
       "</style>\n",
       "<table border=\"1\" class=\"dataframe\">\n",
       "  <thead>\n",
       "    <tr style=\"text-align: right;\">\n",
       "      <th></th>\n",
       "      <th>20</th>\n",
       "      <th>50</th>\n",
       "      <th>100</th>\n",
       "      <th>200</th>\n",
       "      <th>500</th>\n",
       "    </tr>\n",
       "  </thead>\n",
       "  <tbody>\n",
       "    <tr>\n",
       "      <th>20</th>\n",
       "      <td>1.0</td>\n",
       "      <td>0.0</td>\n",
       "      <td>0.00</td>\n",
       "      <td>0.0</td>\n",
       "      <td>0.00</td>\n",
       "    </tr>\n",
       "    <tr>\n",
       "      <th>50</th>\n",
       "      <td>0.0</td>\n",
       "      <td>1.0</td>\n",
       "      <td>0.00</td>\n",
       "      <td>0.0</td>\n",
       "      <td>0.00</td>\n",
       "    </tr>\n",
       "    <tr>\n",
       "      <th>100</th>\n",
       "      <td>0.0</td>\n",
       "      <td>0.0</td>\n",
       "      <td>0.84</td>\n",
       "      <td>0.0</td>\n",
       "      <td>0.16</td>\n",
       "    </tr>\n",
       "    <tr>\n",
       "      <th>200</th>\n",
       "      <td>0.0</td>\n",
       "      <td>0.0</td>\n",
       "      <td>0.00</td>\n",
       "      <td>1.0</td>\n",
       "      <td>0.00</td>\n",
       "    </tr>\n",
       "    <tr>\n",
       "      <th>500</th>\n",
       "      <td>0.0</td>\n",
       "      <td>0.0</td>\n",
       "      <td>0.09</td>\n",
       "      <td>0.0</td>\n",
       "      <td>0.91</td>\n",
       "    </tr>\n",
       "  </tbody>\n",
       "</table>\n",
       "</div>"
      ],
      "text/plain": [
       "      20   50   100  200   500\n",
       "20   1.0  0.0  0.00  0.0  0.00\n",
       "50   0.0  1.0  0.00  0.0  0.00\n",
       "100  0.0  0.0  0.84  0.0  0.16\n",
       "200  0.0  0.0  0.00  1.0  0.00\n",
       "500  0.0  0.0  0.09  0.0  0.91"
      ]
     },
     "execution_count": 11,
     "metadata": {},
     "output_type": "execute_result"
    }
   ],
   "source": [
    "from sklearn.metrics import confusion_matrix\n",
    "\n",
    "m = confusion_matrix(ytest, ypred).astype(float)\n",
    "\n",
    "total = np.sum(m,axis=1)\n",
    "print('total:',total)\n",
    "\n",
    "for r,ren in enumerate(m):\n",
    "    m[r,:] = m[r,:] / total[r]\n",
    "\n",
    "m = np.round(m,2)\n",
    "df = pandas.DataFrame(m,columns=TargetNames,index=TargetNames)\n",
    "df"
   ]
  },
  {
   "cell_type": "markdown",
   "metadata": {},
   "source": [
    "## Resultados MLPClassifier\n",
    "\n"
   ]
  },
  {
   "cell_type": "code",
   "execution_count": 12,
   "metadata": {},
   "outputs": [
    {
     "name": "stdout",
     "output_type": "stream",
     "text": [
      "macro-precision: 0.950608695652174\n",
      "macro-recall: 0.9506086956521738\n",
      "macro-f1: 0.95\n"
     ]
    }
   ],
   "source": [
    "from sklearn.metrics import recall_score, precision_score, f1_score\n",
    "\n",
    "print('macro-precision:',precision_score(ytest,ypred,average='macro'))\n",
    "print('macro-recall:',recall_score(ytest,ypred,average='macro'))\n",
    "print('macro-f1:',f1_score(ytest,ypred,average='macro'))"
   ]
  },
  {
   "cell_type": "markdown",
   "metadata": {},
   "source": [
    "# SVC Model"
   ]
  },
  {
   "cell_type": "code",
   "execution_count": 13,
   "metadata": {},
   "outputs": [
    {
     "name": "stdout",
     "output_type": "stream",
     "text": [
      "accuracy_score 0.9596774193548387\n",
      "Número de muestras: 124\n",
      "Número de predicciones correctas: 119\n"
     ]
    }
   ],
   "source": [
    "from sklearn.neural_network import MLPClassifier\n",
    "from sklearn.naive_bayes import GaussianNB \n",
    "from sklearn.svm import SVC\n",
    "from sklearn.metrics import accuracy_score\n",
    "\n",
    "\n",
    "model = SVC(random_state=42)\n",
    "\n",
    "# Ajustar (Entrenar) el modelo con los datos de entrenamiento\n",
    "model.fit(Xtrain,ytrain)\n",
    "\n",
    "# Predecir\n",
    "ypred = model.predict(Xtest)\n",
    "print('accuracy_score',accuracy_score(ytest,ypred))\n",
    "\n",
    "print('Número de muestras:',len(ytest))\n",
    "print('Número de predicciones correctas:', np.sum(ytest==ypred))\n",
    "\n"
   ]
  },
  {
   "cell_type": "markdown",
   "metadata": {},
   "source": [
    "### Matriz de confusión SVC"
   ]
  },
  {
   "cell_type": "code",
   "execution_count": 14,
   "metadata": {},
   "outputs": [
    {
     "name": "stdout",
     "output_type": "stream",
     "text": [
      "total: [29. 17. 25. 30. 23.]\n"
     ]
    },
    {
     "data": {
      "text/html": [
       "<div>\n",
       "<style scoped>\n",
       "    .dataframe tbody tr th:only-of-type {\n",
       "        vertical-align: middle;\n",
       "    }\n",
       "\n",
       "    .dataframe tbody tr th {\n",
       "        vertical-align: top;\n",
       "    }\n",
       "\n",
       "    .dataframe thead th {\n",
       "        text-align: right;\n",
       "    }\n",
       "</style>\n",
       "<table border=\"1\" class=\"dataframe\">\n",
       "  <thead>\n",
       "    <tr style=\"text-align: right;\">\n",
       "      <th></th>\n",
       "      <th>20</th>\n",
       "      <th>50</th>\n",
       "      <th>100</th>\n",
       "      <th>200</th>\n",
       "      <th>500</th>\n",
       "    </tr>\n",
       "  </thead>\n",
       "  <tbody>\n",
       "    <tr>\n",
       "      <th>20</th>\n",
       "      <td>1.0</td>\n",
       "      <td>0.0</td>\n",
       "      <td>0.00</td>\n",
       "      <td>0.0</td>\n",
       "      <td>0.00</td>\n",
       "    </tr>\n",
       "    <tr>\n",
       "      <th>50</th>\n",
       "      <td>0.0</td>\n",
       "      <td>1.0</td>\n",
       "      <td>0.00</td>\n",
       "      <td>0.0</td>\n",
       "      <td>0.00</td>\n",
       "    </tr>\n",
       "    <tr>\n",
       "      <th>100</th>\n",
       "      <td>0.0</td>\n",
       "      <td>0.0</td>\n",
       "      <td>0.84</td>\n",
       "      <td>0.0</td>\n",
       "      <td>0.16</td>\n",
       "    </tr>\n",
       "    <tr>\n",
       "      <th>200</th>\n",
       "      <td>0.0</td>\n",
       "      <td>0.0</td>\n",
       "      <td>0.00</td>\n",
       "      <td>1.0</td>\n",
       "      <td>0.00</td>\n",
       "    </tr>\n",
       "    <tr>\n",
       "      <th>500</th>\n",
       "      <td>0.0</td>\n",
       "      <td>0.0</td>\n",
       "      <td>0.04</td>\n",
       "      <td>0.0</td>\n",
       "      <td>0.96</td>\n",
       "    </tr>\n",
       "  </tbody>\n",
       "</table>\n",
       "</div>"
      ],
      "text/plain": [
       "      20   50   100  200   500\n",
       "20   1.0  0.0  0.00  0.0  0.00\n",
       "50   0.0  1.0  0.00  0.0  0.00\n",
       "100  0.0  0.0  0.84  0.0  0.16\n",
       "200  0.0  0.0  0.00  1.0  0.00\n",
       "500  0.0  0.0  0.04  0.0  0.96"
      ]
     },
     "execution_count": 14,
     "metadata": {},
     "output_type": "execute_result"
    }
   ],
   "source": [
    "from sklearn.metrics import confusion_matrix\n",
    "\n",
    "m = confusion_matrix(ytest, ypred).astype(float)\n",
    "\n",
    "total = np.sum(m,axis=1)\n",
    "print('total:',total)\n",
    "\n",
    "for r,ren in enumerate(m):\n",
    "    m[r,:] = m[r,:] / total[r]\n",
    "\n",
    "m = np.round(m,2)\n",
    "df = pandas.DataFrame(m,columns=TargetNames,index=TargetNames)\n",
    "df\n"
   ]
  },
  {
   "cell_type": "markdown",
   "metadata": {},
   "source": [
    "# Resultados SVC\n"
   ]
  },
  {
   "cell_type": "code",
   "execution_count": 15,
   "metadata": {},
   "outputs": [
    {
     "name": "stdout",
     "output_type": "stream",
     "text": [
      "macro-precision: 0.9601398601398602\n",
      "macro-recall: 0.9593043478260869\n",
      "macro-f1: 0.958315240990013\n"
     ]
    }
   ],
   "source": [
    "from sklearn.metrics import recall_score, precision_score, f1_score\n",
    "\n",
    "print('macro-precision:',precision_score(ytest,ypred,average='macro'))\n",
    "print('macro-recall:',recall_score(ytest,ypred,average='macro'))\n",
    "print('macro-f1:',f1_score(ytest,ypred,average='macro'))"
   ]
  },
  {
   "cell_type": "markdown",
   "metadata": {},
   "source": [
    "# Random Forest Classifier "
   ]
  },
  {
   "cell_type": "code",
   "execution_count": 16,
   "metadata": {},
   "outputs": [
    {
     "name": "stdout",
     "output_type": "stream",
     "text": [
      "accuracy_score 0.9838709677419355\n",
      "Número de muestras: 124\n",
      "Número de predicciones correctas: 122\n"
     ]
    }
   ],
   "source": [
    "from sklearn.neural_network import MLPClassifier\n",
    "from sklearn.naive_bayes import GaussianNB \n",
    "from sklearn.svm import SVC\n",
    "from sklearn.ensemble import RandomForestClassifier\n",
    "from sklearn.metrics import accuracy_score\n",
    "\n",
    "model = RandomForestClassifier(random_state=52)\n",
    "\n",
    "# Ajustar (Entrenar) el modelo con los datos de entrenamiento\n",
    "model.fit(Xtrain,ytrain)\n",
    "\n",
    "# Predecir\n",
    "ypred = model.predict(Xtest)\n",
    "print('accuracy_score',accuracy_score(ytest,ypred))\n",
    "\n",
    "print('Número de muestras:',len(ytest))\n",
    "print('Número de predicciones correctas:', np.sum(ytest==ypred))"
   ]
  },
  {
   "cell_type": "markdown",
   "metadata": {},
   "source": [
    "## Matriz de confusión Random Forest Classifier "
   ]
  },
  {
   "cell_type": "code",
   "execution_count": 17,
   "metadata": {},
   "outputs": [
    {
     "name": "stdout",
     "output_type": "stream",
     "text": [
      "total: [29. 17. 25. 30. 23.]\n"
     ]
    },
    {
     "data": {
      "text/html": [
       "<div>\n",
       "<style scoped>\n",
       "    .dataframe tbody tr th:only-of-type {\n",
       "        vertical-align: middle;\n",
       "    }\n",
       "\n",
       "    .dataframe tbody tr th {\n",
       "        vertical-align: top;\n",
       "    }\n",
       "\n",
       "    .dataframe thead th {\n",
       "        text-align: right;\n",
       "    }\n",
       "</style>\n",
       "<table border=\"1\" class=\"dataframe\">\n",
       "  <thead>\n",
       "    <tr style=\"text-align: right;\">\n",
       "      <th></th>\n",
       "      <th>20</th>\n",
       "      <th>50</th>\n",
       "      <th>100</th>\n",
       "      <th>200</th>\n",
       "      <th>500</th>\n",
       "    </tr>\n",
       "  </thead>\n",
       "  <tbody>\n",
       "    <tr>\n",
       "      <th>20</th>\n",
       "      <td>1.0</td>\n",
       "      <td>0.0</td>\n",
       "      <td>0.00</td>\n",
       "      <td>0.0</td>\n",
       "      <td>0.00</td>\n",
       "    </tr>\n",
       "    <tr>\n",
       "      <th>50</th>\n",
       "      <td>0.0</td>\n",
       "      <td>1.0</td>\n",
       "      <td>0.00</td>\n",
       "      <td>0.0</td>\n",
       "      <td>0.00</td>\n",
       "    </tr>\n",
       "    <tr>\n",
       "      <th>100</th>\n",
       "      <td>0.0</td>\n",
       "      <td>0.0</td>\n",
       "      <td>0.92</td>\n",
       "      <td>0.0</td>\n",
       "      <td>0.08</td>\n",
       "    </tr>\n",
       "    <tr>\n",
       "      <th>200</th>\n",
       "      <td>0.0</td>\n",
       "      <td>0.0</td>\n",
       "      <td>0.00</td>\n",
       "      <td>1.0</td>\n",
       "      <td>0.00</td>\n",
       "    </tr>\n",
       "    <tr>\n",
       "      <th>500</th>\n",
       "      <td>0.0</td>\n",
       "      <td>0.0</td>\n",
       "      <td>0.00</td>\n",
       "      <td>0.0</td>\n",
       "      <td>1.00</td>\n",
       "    </tr>\n",
       "  </tbody>\n",
       "</table>\n",
       "</div>"
      ],
      "text/plain": [
       "      20   50   100  200   500\n",
       "20   1.0  0.0  0.00  0.0  0.00\n",
       "50   0.0  1.0  0.00  0.0  0.00\n",
       "100  0.0  0.0  0.92  0.0  0.08\n",
       "200  0.0  0.0  0.00  1.0  0.00\n",
       "500  0.0  0.0  0.00  0.0  1.00"
      ]
     },
     "execution_count": 17,
     "metadata": {},
     "output_type": "execute_result"
    }
   ],
   "source": [
    "from sklearn.metrics import confusion_matrix\n",
    "m = confusion_matrix(ytest, ypred).astype(float)\n",
    "\n",
    "total = np.sum(m,axis=1)\n",
    "print('total:',total)\n",
    "\n",
    "for r,ren in enumerate(m):\n",
    "    m[r,:] = m[r,:] / total[r]\n",
    "\n",
    "m = np.round(m,2)\n",
    "df = pandas.DataFrame(m,columns=TargetNames,index=TargetNames)\n",
    "df"
   ]
  },
  {
   "cell_type": "markdown",
   "metadata": {},
   "source": [
    "# Resultados Random Forest "
   ]
  },
  {
   "cell_type": "code",
   "execution_count": 18,
   "metadata": {},
   "outputs": [
    {
     "name": "stdout",
     "output_type": "stream",
     "text": [
      "macro-precision: 0.984\n",
      "macro-recall: 0.984\n",
      "macro-f1: 0.9833333333333334\n"
     ]
    }
   ],
   "source": [
    "from sklearn.metrics import recall_score, precision_score, f1_score\n",
    "print('macro-precision:',precision_score(ytest,ypred,average='macro'))\n",
    "print('macro-recall:',recall_score(ytest,ypred,average='macro'))\n",
    "print('macro-f1:',f1_score(ytest,ypred,average='macro'))"
   ]
  },
  {
   "cell_type": "markdown",
   "metadata": {},
   "source": [
    "# Predecir en tiempo Real\n"
   ]
  },
  {
   "cell_type": "code",
   "execution_count": 19,
   "metadata": {},
   "outputs": [],
   "source": [
    "def modelo(x):\n",
    "    # Predecir\n",
    "    ypred = model.predict([x])\n",
    "    return ypred "
   ]
  },
  {
   "cell_type": "code",
   "execution_count": 20,
   "metadata": {},
   "outputs": [],
   "source": [
    "def predecir(x):\n",
    "    \n",
    "    #lower = np.array([0, 10, 10])\n",
    "    #upper = np.array([180, 255, 255])\n",
    "    \n",
    "    img = x\n",
    "    img_hsv = cv2.cvtColor(img, cv2.COLOR_BGR2HSV)\n",
    "    img_rgb = cv2.cvtColor(img, cv2.COLOR_BGR2RGB)\n",
    "    #mask = cv2.inRange(img_hsv, lower, upper)\n",
    "    \n",
    "    \"\"\"\"   \n",
    "    plt.figure()\n",
    "    plt.subplot(1,2,1)\n",
    "    plt.title('rgb')\n",
    "    plt.imshow( img_rgb )\n",
    "    plt.subplot(1,2,2)\n",
    "    plt.title('mask')\n",
    "    plt.imshow( mask,cmap='gray' )\n",
    "    plt.show()\n",
    "    \"\"\"    \n",
    "    nrows, ncols, nch = img_hsv.shape\n",
    "\n",
    "    #Vectorizar imagen\n",
    "        \n",
    "    Vimg_hsv = np.reshape(img_hsv,(nrows*ncols,3))\n",
    "\n",
    "        # Obtener hue\n",
    "    hue = Vimg_hsv[:,0]\n",
    "    histograma = np.histogram(hue,bins=10,range=[0,180])[0]\n",
    "    histograma = histograma / np.sum(histograma)\n",
    "    histograma = np.round(histograma,2)\n",
    "    \n",
    "    ans = modelo(histograma)\n",
    "    \n",
    "    \"\"\"\n",
    "    plt.figure()\n",
    "    plt.hist(hue)\n",
    "    plt.show()\n",
    "    print(histograma)\n",
    "    print('---------------------------------------------------------------------------------------------------------------')\n",
    "    print('---------------------------------------------------------------------------------------------------------------')\n",
    "    \"\"\"\n",
    "    \n",
    "    print(ans)\n",
    "    \n",
    "    return ans"
   ]
  },
  {
   "cell_type": "code",
   "execution_count": null,
   "metadata": {},
   "outputs": [
    {
     "name": "stdout",
     "output_type": "stream",
     "text": [
      "[200]\n",
      "[200]\n",
      "[20]\n",
      "[20]\n",
      "[200]\n",
      "[200]\n",
      "[200]\n",
      "[200]\n",
      "[200]\n",
      "[200]\n",
      "[200]\n",
      "[200]\n",
      "[200]\n",
      "[200]\n",
      "[200]\n",
      "[200]\n",
      "[200]\n",
      "[200]\n",
      "[200]\n",
      "[200]\n",
      "[200]"
     ]
    }
   ],
   "source": [
    "import cv2\n",
    "\n",
    "arrimgn=[]\n",
    "def funcion(img):\n",
    "    gray = cv2.cvtColor(img, cv2.COLOR_BGR2GRAY)\n",
    "    gray_1 = cv2.GaussianBlur(gray, (5, 5), 0)\n",
    "    \n",
    "    ret, imgt = cv2.threshold(gray, 127, 255, cv2.THRESH_BINARY_INV)\n",
    "    \n",
    "    countours, hierarchy = cv2.findContours(imgt.copy(), cv2.RETR_EXTERNAL, cv2.CHAIN_APPROX_SIMPLE)\n",
    "    \n",
    "    rectangles = [cv2.boundingRect(countour) for countour in countours]\n",
    "    c = 0\n",
    "    \n",
    "    for rect in rectangles:\n",
    "        \n",
    "        if rect[2] > 50 and rect[3] > 50:\n",
    "            \n",
    "            imgn = img[rect[1]: rect[1] + rect[3] , rect[0]:rect[0] + rect[2]]\n",
    "            imgn = cv2.resize(imgn, (100, 100))\n",
    "            c += 1\n",
    "            \n",
    "            ans = predecir(imgn)\n",
    "            \n",
    "            \n",
    "            #cv2.imwrite('res/'+str(ans)+str(c)+\".png\", imgn) \n",
    "            \n",
    "            cv2.rectangle(img, (rect[0], rect[1]), (rect[0] + rect[2], rect[1] + rect[3]), (255, 0, 0), 2)\n",
    "            cv2.putText(img, str(ans), (rect[0], rect[1]), cv2.FONT_HERSHEY_SIMPLEX, 1, (200, 0, 0), 3, cv2.LINE_AA)\n",
    "    \n",
    "    return img\n",
    "\n",
    "\n",
    "#captura = cv2.VideoCapture(0)\n",
    "captura = cv2.VideoCapture(\"billetes_7.mp4\")\n",
    "\n",
    "while (captura.isOpened()):\n",
    "    \n",
    "    ret, img = captura.read()\n",
    "\n",
    "    img = funcion(img)\n",
    "\n",
    "    if ret == True:\n",
    "        cv2.imshow('Billete', img)\n",
    "        if cv2.waitKey(1) & 0xFF == ord('q'):\n",
    "              break\n",
    "    else:\n",
    "        break\n",
    "      \n",
    "\n",
    "    #captura.release()\n",
    "cv2.destroyAllWindows()\n"
   ]
  },
  {
   "cell_type": "code",
   "execution_count": null,
   "metadata": {},
   "outputs": [],
   "source": []
  },
  {
   "cell_type": "code",
   "execution_count": null,
   "metadata": {},
   "outputs": [],
   "source": []
  },
  {
   "cell_type": "code",
   "execution_count": null,
   "metadata": {},
   "outputs": [],
   "source": []
  },
  {
   "cell_type": "code",
   "execution_count": null,
   "metadata": {},
   "outputs": [],
   "source": []
  },
  {
   "cell_type": "code",
   "execution_count": null,
   "metadata": {},
   "outputs": [],
   "source": []
  },
  {
   "cell_type": "code",
   "execution_count": null,
   "metadata": {},
   "outputs": [],
   "source": []
  },
  {
   "cell_type": "code",
   "execution_count": null,
   "metadata": {},
   "outputs": [],
   "source": []
  },
  {
   "cell_type": "code",
   "execution_count": null,
   "metadata": {},
   "outputs": [],
   "source": []
  }
 ],
 "metadata": {
  "kernelspec": {
   "display_name": "Python 3",
   "language": "python",
   "name": "python3"
  },
  "language_info": {
   "codemirror_mode": {
    "name": "ipython",
    "version": 3
   },
   "file_extension": ".py",
   "mimetype": "text/x-python",
   "name": "python",
   "nbconvert_exporter": "python",
   "pygments_lexer": "ipython3",
   "version": "3.8.5"
  }
 },
 "nbformat": 4,
 "nbformat_minor": 2
}
