{
 "cells": [
  {
   "cell_type": "code",
   "execution_count": 1,
   "metadata": {
    "id": "v4olaPPlu6dL"
   },
   "outputs": [],
   "source": [
    "import numpy as np\n",
    "import pandas\n",
    "import matplotlib.pyplot as plt\n",
    "from sklearn.linear_model import LinearRegression\n",
    "from sklearn.model_selection import train_test_split\n",
    "from sklearn.metrics import mean_absolute_error\n",
    "from sklearn.datasets import make_circles,make_blobs\n",
    "from sklearn.metrics import accuracy_score, f1_score, confusion_matrix\n",
    "from sklearn.preprocessing import normalize\n",
    "\n",
    "from sklearn.datasets import load_diabetes     ## Diabetes "
   ]
  },
  {
   "cell_type": "code",
   "execution_count": 2,
   "metadata": {
    "colab": {
     "base_uri": "https://localhost:8080/"
    },
    "id": "PwOCFOR6w-Yd",
    "outputId": "811198b0-e572-4d55-e691-0761a45e93a3"
   },
   "outputs": [
    {
     "name": "stdout",
     "output_type": "stream",
     "text": [
      "(221, 10)\n",
      "(221,)\n"
     ]
    }
   ],
   "source": [
    "features, target = load_diabetes(return_X_y=True)\n",
    "Xtrain,Xtest,ytrain,ytest=train_test_split(features, target,test_size=0.50,\n",
    "                                                random_state=45)\n",
    "print(Xtrain.shape)\n",
    "print(ytrain.shape)"
   ]
  },
  {
   "cell_type": "markdown",
   "metadata": {},
   "source": [
    "# Linear Regression \n"
   ]
  },
  {
   "cell_type": "code",
   "execution_count": 3,
   "metadata": {
    "colab": {
     "base_uri": "https://localhost:8080/"
    },
    "id": "8g22g4sWyYmI",
    "outputId": "f73e54b9-5fca-4fd2-ca31-3f78ac1182e4"
   },
   "outputs": [
    {
     "data": {
      "text/plain": [
       "LinearRegression()"
      ]
     },
     "execution_count": 3,
     "metadata": {},
     "output_type": "execute_result"
    }
   ],
   "source": [
    "model = LinearRegression()\n",
    "model.fit(Xtrain,ytrain)"
   ]
  },
  {
   "cell_type": "code",
   "execution_count": 4,
   "metadata": {
    "colab": {
     "base_uri": "https://localhost:8080/"
    },
    "id": "GyHbNY7MyhNO",
    "outputId": "68577239-e6c6-42ef-ef72-58160e541419"
   },
   "outputs": [
    {
     "name": "stdout",
     "output_type": "stream",
     "text": [
      "MSE:  45.03187551402691\n"
     ]
    }
   ],
   "source": [
    "ypred = model.predict(Xtest)\n",
    "print('MSE: ',mean_absolute_error(ytest,ypred))"
   ]
  },
  {
   "cell_type": "code",
   "execution_count": 5,
   "metadata": {},
   "outputs": [
    {
     "name": "stdout",
     "output_type": "stream",
     "text": [
      "Intercept:  148.20544129017827\n",
      "Coef: \n",
      "[  -16.2838562   -145.78684674   300.3100974    337.06634465\n",
      " -1029.25936801   631.21560027   284.91152518   315.17716351\n",
      "   842.66533241    89.35996725]\n"
     ]
    }
   ],
   "source": [
    "print(\"Intercept: \", model.intercept_)\n",
    "print(\"Coef: \")\n",
    "print( model.coef_)\n",
    "\n"
   ]
  },
  {
   "cell_type": "markdown",
   "metadata": {
    "id": "YypyzcCLREDI"
   },
   "source": [
    "#  ^3 Regression"
   ]
  },
  {
   "cell_type": "code",
   "execution_count": 6,
   "metadata": {
    "colab": {
     "base_uri": "https://localhost:8080/"
    },
    "id": "wIbWQ7JE14o-",
    "outputId": "90b60eee-cfea-4ecb-c422-0c3259ef78d4"
   },
   "outputs": [
    {
     "name": "stdout",
     "output_type": "stream",
     "text": [
      "MSE:  48.45929498162895\n"
     ]
    }
   ],
   "source": [
    "Xtrain_2 = np.concatenate((Xtrain,Xtrain**2,Xtrain**3),axis=1)\n",
    "Xtest_2 = np.concatenate((Xtest,Xtest**2,Xtest**3),axis=1)\n",
    "\n",
    "model2 = LinearRegression()\n",
    "model2.fit( Xtrain_2, ytrain)\n",
    "\n",
    "ypred = model2.predict(Xtest_2)\n",
    "print('MSE: ',mean_absolute_error(ytest,ypred))"
   ]
  },
  {
   "cell_type": "markdown",
   "metadata": {
    "id": "DIzjm3ELLA-t"
   },
   "source": []
  },
  {
   "cell_type": "code",
   "execution_count": 11,
   "metadata": {
    "colab": {
     "base_uri": "https://localhost:8080/"
    },
    "id": "KJ_0RBFs2QLl",
    "outputId": "6e1740cb-47de-40e2-ac47-50a4fa2a1474"
   },
   "outputs": [
    {
     "name": "stdout",
     "output_type": "stream",
     "text": [
      "( -0.107225631607358 0.096196521649737 )\n",
      "( -0.044641636506989 0.0506801187398187 )\n",
      "( -0.0891974838246376 0.17055522598066 )\n",
      "( -0.112399602060758 0.125158475807044 )\n",
      "( -0.108893282759899 0.153913713156516 )\n",
      "( -0.115613065979398 0.198787989657293 )\n",
      "( -0.10230705051742 0.181179060397284 )\n",
      "( -0.076394503750001 0.185234443260194 )\n",
      "( -0.126097385560409 0.133598980013008 )\n",
      "( -0.137767225690012 0.135611830689079 )\n"
     ]
    }
   ],
   "source": [
    "for i in range(Xtrain.shape[1]):\n",
    "    print('(',np.min( Xtrain[:,i] ), np.max( Xtrain[:,i] ) ,')')"
   ]
  },
  {
   "cell_type": "code",
   "execution_count": 12,
   "metadata": {
    "colab": {
     "base_uri": "https://localhost:8080/"
    },
    "id": "m1jo4CxnKNKV",
    "outputId": "05da8ebd-479c-4b84-fdfe-111ab6b2f16a"
   },
   "outputs": [
    {
     "name": "stdout",
     "output_type": "stream",
     "text": [
      "( -2.253174733892836 2.1306156303042654 )\n",
      "( -0.8683134537528794 1.1516578439248717 )\n",
      "( -1.7446253494049695 3.614729289807066 )\n",
      "( -2.203479836828573 2.651200961351288 )\n",
      "( -2.23832705046657 3.216755116233459 )\n",
      "( -2.2497344753735677 3.9589730412158506 )\n",
      "( -2.1955988952328167 3.6250127888576618 )\n",
      "( -1.4715482691850232 3.800193162758178 )\n",
      "( -2.4688006572856502 2.827142127291083 )\n",
      "( -2.733883152349154 2.7107399579955653 )\n"
     ]
    }
   ],
   "source": [
    "XN = Xtrain.copy()\n",
    "XT = Xtest.copy()\n",
    "\n",
    "for i in range(Xtrain.shape[1]):\n",
    "    XN[:,i] = ( Xtrain[:,i]-np.mean(Xtrain[:,i]) )/np.std(Xtrain[:,i])\n",
    "    XT[:,i] = ( Xtest[:,i]-np.mean(Xtest[:,i]) )/np.std(Xtest[:,i])\n",
    "    print('(',np.min( XN[:,i] ), np.max( XN[:,i] ) ,')')"
   ]
  },
  {
   "cell_type": "code",
   "execution_count": 15,
   "metadata": {
    "colab": {
     "base_uri": "https://localhost:8080/"
    },
    "id": "jKB3XLZyK7AF",
    "outputId": "ead07b5b-5f56-4ec5-b6d4-84aa217a9a77"
   },
   "outputs": [
    {
     "name": "stdout",
     "output_type": "stream",
     "text": [
      "MSE:  47.19765738784885\n"
     ]
    }
   ],
   "source": [
    "model = LinearRegression()\n",
    "model.fit( XN, ytrain)\n",
    "ypred = model.predict( XT)\n",
    "print('MSE: ',mean_absolute_error(ytest,ypred))"
   ]
  },
  {
   "cell_type": "code",
   "execution_count": null,
   "metadata": {},
   "outputs": [],
   "source": []
  }
 ],
 "metadata": {
  "colab": {
   "collapsed_sections": [],
   "name": "Linear-Regression.ipynb",
   "provenance": []
  },
  "kernelspec": {
   "display_name": "Python 3",
   "language": "python",
   "name": "python3"
  },
  "language_info": {
   "codemirror_mode": {
    "name": "ipython",
    "version": 3
   },
   "file_extension": ".py",
   "mimetype": "text/x-python",
   "name": "python",
   "nbconvert_exporter": "python",
   "pygments_lexer": "ipython3",
   "version": "3.8.5"
  }
 },
 "nbformat": 4,
 "nbformat_minor": 1
}
